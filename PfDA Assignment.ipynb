{
 "cells": [
  {
   "attachments": {},
   "cell_type": "markdown",
   "metadata": {},
   "source": [
    "## PfDA Assignment \n",
    "\n",
    "***"
   ]
  },
  {
   "cell_type": "markdown",
   "metadata": {},
   "source": [
    "Simulate data of a phenomenon:\n",
    "\n",
    "e.g. ACL injuries in women's professional football\n",
    "    injuries in women's football\n",
    "\n",
    "- at least 100 data points required\n",
    "- 4 variables:\n",
    "    e.g. age, trianing hours in week, kms covered in week, occupation (if not professional), previous injury, menstrual cycle\n",
    "\n",
    "Use a Jupyter notebook - use images, links, code etc\n",
    "\n",
    "Research likely relationships between variables, their distributions and relationships/ correlation with each other\n",
    "\n",
    "Simulate data by devising an algorithm\n",
    "\n",
    "\n",
    "***\n"
   ]
  },
  {
   "cell_type": "markdown",
   "metadata": {},
   "source": [
    "## Introduction\n",
    "\n",
    "The phenomenon I have chosen to investigate in this project is the epidemic of Anterior Cruciate Ligament (ACL) injuries in athletes, in particular in female sport.\n",
    "\n",
    "The ACL is one of the main stabilizing ligaments in the knee. It connects the thigh bone (femur) to the shin bone (tibia). It is responsible for stabilising the knee as well as controlling any abnormal motion during twisting, turning and pivoting actions.\n",
    "\n",
    "![ACL](https://my.clevelandclinic.org/-/scassets/images/org/health/articles/16576-acl-tear)"
   ]
  },
  {
   "cell_type": "markdown",
   "metadata": {},
   "source": [
    "An ACL rupture is a serious injury that most often requires surgery to repair. Recovery time from an ACL rupture is typically in the range of 7-12 months from injury to return to play.\n",
    "\n",
    "As ACL injury most often occurs through twisting, pivoting and changing directons, injury is most common in athletes who compete in sports that involve these actions - in particular, soccer, basketball, etc. Here in Ireland, ACL injuries are also very common in GAA athletes.\n",
    "\n",
    "ACL injuries are also particulary prevalent in females, with females 4-8 times more likely that males to suffer an ACL injury.\n",
    "\n",
    "Through some research (and my own personal experience as someone who has suffered the dreaded ruptured ACL!), I have found that the following variables have a close relationship with ACL injury:\n",
    "\n",
    "- sex\n",
    "- age\n",
    "- mode of injury (in training/competition)\n",
    "- stage in menstrual cycle (female only)\n",
    "- previous injury\n",
    "- hours of training per week\n",
    "\n",
    "\n",
    "***"
   ]
  },
  {
   "cell_type": "markdown",
   "metadata": {},
   "source": [
    "## Discussion on Variables\n",
    "\n",
    "### Sex\n",
    "\n",
    "- 4-8 times more likely for females than males\n",
    "- #https://pubmed.ncbi.nlm.nih.gov/9784805/\n",
    "\n",
    "- I decided to focus this project on females only, so there will be no sex variable in the dataset\n",
    "\n",
    "### Age\n",
    "\n",
    "- 15-19 to 30-34 - consistent for males then starts to drop off\n",
    "- 15-19 extremely high in females then drops but stays consistent to 35-39 then starts to drop\n",
    "- https://stillmed.olympics.com/media/Documents/Athletes/Medical-Scientific/Consensus-Statements/2008_non-contact-ACL-injuries-female-athletes.pdf\n",
    "\n",
    "- after 30 athletes begin to retire\n",
    "\n",
    "\n",
    "- Age Bracket Data: (ratios)\n",
    "Female:\n",
    "10-14 = 1\n",
    "15-19 = 8.5\n",
    "20-24 = 3\n",
    "25-29 = 3\n",
    "30-34 = 3\n",
    "35-39 = 3\n",
    "40-44 = 2\n",
    "Greater than 45 = 1.5\n",
    "\n",
    "Male:\n",
    "10-14 = 0\n",
    "15-19 = 3.5\n",
    "20-24 = 3.5\n",
    "25-29 = 3.5\n",
    "30-34 = 3.5\n",
    "35-39 = 3\n",
    "40-44 = 2\n",
    "Greater than 45 = 1\n",
    "\n",
    "\n",
    "### Hours of Training per Week\n",
    "- Training hours greater than 10 hours per week - 7.5:1 than those less than 10 hours\n",
    "- #https://bjsm.bmj.com/content/51/4/392.3\n",
    "\n",
    "### Previous Injury\n",
    "- Prior injury to ACL is heavily linked to re-injury of the ligament - 6:1 more likely to injure ACL then someone who has not injured it previously\n",
    "- #https://journals.sagepub.com/doi/10.1177/0363546514530088\n",
    "\n",
    "### Menstrual Cycle Stage\n",
    "\n",
    "- Follicular (Day 1-9) approx 37%\n",
    "- Ovulatory (Day 10 - 14) approx 26%\n",
    "- Luteal (Day 15-28) approx 37%\n",
    "- https://www.ncbi.nlm.nih.gov/pmc/articles/PMC164356/#:~:text=We%20found%20that%2026%20of,onset%20of%20menses%20(Figure%20%E2%80%8B\n",
    "\n",
    "### Mode of Injury\n",
    "\n",
    "- Higher in competition than in training/practice - approx 7:1 \n",
    "- https://www.ncbi.nlm.nih.gov/pmc/articles/PMC3867093/\n",
    "\n",
    "\n",
    "***"
   ]
  },
  {
   "cell_type": "markdown",
   "metadata": {},
   "source": [
    "## Dataset Synthesis"
   ]
  },
  {
   "cell_type": "markdown",
   "metadata": {},
   "source": [
    "To create data based on the research above, I will use numpy random number generator. The data will be synthesises based on a normal distribution.\n",
    "a dataset with 200 rows will be created. It will represent data for 200 athletes who have suffered ACL injuries. The variables in the data set will be:\n",
    "- Sex\n",
    "- Age\n",
    "- Mode of Injury\n",
    "- Training Hours per week\n",
    "- Menstrual Cycle Stage (Female only)"
   ]
  },
  {
   "cell_type": "code",
   "execution_count": 1,
   "metadata": {},
   "outputs": [],
   "source": [
    "#Importing of Packages\n",
    "\n",
    "import pandas as pd\n",
    "import matplotlib.pyplot as plt\n",
    "import numpy as np\n",
    "import random\n",
    "from tabulate import tabulate\n",
    "import seaborn as sns\n",
    "import sys\n"
   ]
  },
  {
   "cell_type": "code",
   "execution_count": 2,
   "metadata": {},
   "outputs": [],
   "source": [
    "# Sex Variable data\n",
    "# I took a value of 5:1 females to males as per research, erring on the side of caution\n",
    "\n",
    "rng = np.random.default_rng()\n",
    "sex_choice = [\"Male\", \"Female\"]\n",
    "sex = rng.choice(sex_choice, p =[0.17, 0.83], size=200)\n",
    "\n",
    "sex.sort()"
   ]
  },
  {
   "cell_type": "code",
   "execution_count": 3,
   "metadata": {},
   "outputs": [],
   "source": [
    "# Age Variable data\n",
    "# I took a value of 5:1 females to males as per research, erring on the side of caution\n",
    "\n",
    "'''Age Bracket Data: (ratios)\n",
    "10-14 = 1\n",
    "15-19 = 8.5\n",
    "20-24 = 3\n",
    "25-29 = 3\n",
    "30-34 = 3\n",
    "35-39 = 3\n",
    "40-44 = 2\n",
    ">45 = 1.5'''\n",
    "\n",
    "# probability =[0.04 = 8, 0.34 = 68, 0.12 = 24, 0.12 = 24, 0.12 = 24, 0.12 =24, 0.08 = 16, 0.06 = 12], size=200)\n",
    "\n",
    "rng = np.random.default_rng()\n",
    "import random\n",
    "from random import randrange\n",
    "age = []\n",
    "for _ in range(8):\n",
    "    age.append(random.randint(10, 14))\n",
    "for _ in range(68):\n",
    "    age.append(random.randint(15, 19))\n",
    "for _ in range(24):\n",
    "    age.append(random.randint(20, 24))\n",
    "for _ in range(24):\n",
    "    age.append(random.randint(25, 29))\n",
    "for _ in range(24):\n",
    "    age.append(random.randint(30, 34))\n",
    "for _ in range(24):\n",
    "    age.append(random.randint(35, 39))\n",
    "for _ in range(16):\n",
    "    age.append(random.randint(40, 44))\n",
    "for _ in range(12):\n",
    "    age.append(random.randint(45, 49))\n",
    "\n",
    "random.shuffle(age)"
   ]
  },
  {
   "cell_type": "code",
   "execution_count": 4,
   "metadata": {},
   "outputs": [],
   "source": [
    "# Training Hours Variable data\n",
    "# I took a value of 7:1 for 10 training hours or greater: less than 10 training hours as per research\n",
    "# Therefore probability of training hours being < 10 = 0.12 (or 0.24 for 200 values)\n",
    "# and probability of training hours being >= 10 = 0.88 (or 1.76 for 200 values)\n",
    "# I randomly shuffle the list to make it more realistic\n",
    "\n",
    "rng = np.random.default_rng()\n",
    "import random\n",
    "from random import randrange\n",
    "training_hours = []\n",
    "for _ in range(24):\n",
    "    training_hours.append(random.randint(3, 9))\n",
    "for _ in range(176):\n",
    "    training_hours.append(random.randint(10, 18))\n",
    "\n",
    "random.shuffle(training_hours)\n",
    "\n",
    "# https://blog.finxter.com/create-a-list-of-random-numbers-the-most-pythonic-way/\n",
    "# https://www.w3schools.com/python/ref_random_shuffle.asp#:~:text=The%20shuffle()%20method%20takes,not%20return%20a%20new%20list.    - for random.shuffle"
   ]
  },
  {
   "cell_type": "code",
   "execution_count": 5,
   "metadata": {},
   "outputs": [],
   "source": [
    "# Mode of Injury Variable data\n",
    "# I took a value of 7.5:1 as per research\n",
    "\n",
    "rng = np.random.default_rng()\n",
    "modeofinjury_choice = [\"Competition\", \"Training\"]\n",
    "modeofinjury = rng.choice(modeofinjury_choice, p =[0.875, 0.125], size=200)"
   ]
  },
  {
   "cell_type": "code",
   "execution_count": 6,
   "metadata": {},
   "outputs": [],
   "source": [
    "# Menstrual Cycle Variable data\n",
    "# From research, there are three main stages: \n",
    "'''Follicular (Day 1-9) approx 37% of \n",
    "Ovulatory (Day 10 - 14) approx 26%\n",
    "Luteal (Day 15-28) approx 37%'''\n",
    "\n",
    "# 37% of 0.83 (no. of females in the dataset) = 0.3071\n",
    "# 26% of 0.83 (no. of females in the dataset) = 0.2158\n",
    "# 37% of 0.83 (no. of females in the dataset) = 0.3071\n",
    "\n",
    "rng = np.random.default_rng()\n",
    "menstrualcycle_choice = [\"X\", \"Follicular (Day 1-9)\", \"Ovulatory (Day 10-14)\", \"Luteal (Day 15-28)\"]\n",
    "menstrualcycle = rng.choice(menstrualcycle_choice, p =[0.17, 0.31, 0.21, 0.31], size=200)\n",
    "\n",
    "menstrualcycle.sort()"
   ]
  },
  {
   "cell_type": "code",
   "execution_count": 7,
   "metadata": {},
   "outputs": [
    {
     "data": {
      "text/html": [
       "<div>\n",
       "<style scoped>\n",
       "    .dataframe tbody tr th:only-of-type {\n",
       "        vertical-align: middle;\n",
       "    }\n",
       "\n",
       "    .dataframe tbody tr th {\n",
       "        vertical-align: top;\n",
       "    }\n",
       "\n",
       "    .dataframe thead th {\n",
       "        text-align: right;\n",
       "    }\n",
       "</style>\n",
       "<table border=\"1\" class=\"dataframe\">\n",
       "  <thead>\n",
       "    <tr style=\"text-align: right;\">\n",
       "      <th></th>\n",
       "      <th>Sex</th>\n",
       "      <th>Age</th>\n",
       "      <th>Training Hours Per Week</th>\n",
       "      <th>Mode of Injury</th>\n",
       "      <th>menstrualcycle</th>\n",
       "    </tr>\n",
       "  </thead>\n",
       "  <tbody>\n",
       "    <tr>\n",
       "      <th>0</th>\n",
       "      <td>Female</td>\n",
       "      <td>18</td>\n",
       "      <td>14</td>\n",
       "      <td>Competition</td>\n",
       "      <td>Follicular (Day 1-9)</td>\n",
       "    </tr>\n",
       "    <tr>\n",
       "      <th>1</th>\n",
       "      <td>Female</td>\n",
       "      <td>37</td>\n",
       "      <td>13</td>\n",
       "      <td>Competition</td>\n",
       "      <td>Follicular (Day 1-9)</td>\n",
       "    </tr>\n",
       "    <tr>\n",
       "      <th>2</th>\n",
       "      <td>Female</td>\n",
       "      <td>24</td>\n",
       "      <td>11</td>\n",
       "      <td>Competition</td>\n",
       "      <td>Follicular (Day 1-9)</td>\n",
       "    </tr>\n",
       "    <tr>\n",
       "      <th>3</th>\n",
       "      <td>Female</td>\n",
       "      <td>35</td>\n",
       "      <td>12</td>\n",
       "      <td>Competition</td>\n",
       "      <td>Follicular (Day 1-9)</td>\n",
       "    </tr>\n",
       "    <tr>\n",
       "      <th>4</th>\n",
       "      <td>Female</td>\n",
       "      <td>29</td>\n",
       "      <td>15</td>\n",
       "      <td>Competition</td>\n",
       "      <td>Follicular (Day 1-9)</td>\n",
       "    </tr>\n",
       "    <tr>\n",
       "      <th>...</th>\n",
       "      <td>...</td>\n",
       "      <td>...</td>\n",
       "      <td>...</td>\n",
       "      <td>...</td>\n",
       "      <td>...</td>\n",
       "    </tr>\n",
       "    <tr>\n",
       "      <th>195</th>\n",
       "      <td>Male</td>\n",
       "      <td>20</td>\n",
       "      <td>8</td>\n",
       "      <td>Competition</td>\n",
       "      <td>NaN</td>\n",
       "    </tr>\n",
       "    <tr>\n",
       "      <th>196</th>\n",
       "      <td>Male</td>\n",
       "      <td>27</td>\n",
       "      <td>15</td>\n",
       "      <td>Competition</td>\n",
       "      <td>NaN</td>\n",
       "    </tr>\n",
       "    <tr>\n",
       "      <th>197</th>\n",
       "      <td>Male</td>\n",
       "      <td>27</td>\n",
       "      <td>14</td>\n",
       "      <td>Competition</td>\n",
       "      <td>NaN</td>\n",
       "    </tr>\n",
       "    <tr>\n",
       "      <th>198</th>\n",
       "      <td>Male</td>\n",
       "      <td>20</td>\n",
       "      <td>4</td>\n",
       "      <td>Training</td>\n",
       "      <td>NaN</td>\n",
       "    </tr>\n",
       "    <tr>\n",
       "      <th>199</th>\n",
       "      <td>Male</td>\n",
       "      <td>29</td>\n",
       "      <td>16</td>\n",
       "      <td>Competition</td>\n",
       "      <td>NaN</td>\n",
       "    </tr>\n",
       "  </tbody>\n",
       "</table>\n",
       "<p>200 rows × 5 columns</p>\n",
       "</div>"
      ],
      "text/plain": [
       "        Sex  Age  Training Hours Per Week Mode of Injury        menstrualcycle\n",
       "0    Female   18                       14    Competition  Follicular (Day 1-9)\n",
       "1    Female   37                       13    Competition  Follicular (Day 1-9)\n",
       "2    Female   24                       11    Competition  Follicular (Day 1-9)\n",
       "3    Female   35                       12    Competition  Follicular (Day 1-9)\n",
       "4    Female   29                       15    Competition  Follicular (Day 1-9)\n",
       "..      ...  ...                      ...            ...                   ...\n",
       "195    Male   20                        8    Competition                   NaN\n",
       "196    Male   27                       15    Competition                   NaN\n",
       "197    Male   27                       14    Competition                   NaN\n",
       "198    Male   20                        4       Training                   NaN\n",
       "199    Male   29                       16    Competition                   NaN\n",
       "\n",
       "[200 rows x 5 columns]"
      ]
     },
     "execution_count": 7,
     "metadata": {},
     "output_type": "execute_result"
    }
   ],
   "source": [
    "data = {\"Sex\" : sex,\n",
    "        \"Age\": age,\n",
    "        \"Training Hours Per Week\": training_hours,\n",
    "        \"Mode of Injury\": modeofinjury,\n",
    "        \"menstrualcycle\" : menstrualcycle}\n",
    "df = pd.DataFrame(data)\n",
    "df = df.replace('X', np.nan)\n",
    "\n",
    "df\n",
    "\n",
    "# I used \"X\" to display the menstrual cycle values for males (i.e. not applicable). I used \"X\" so when I applied the sort() it would keep all these values at the end of the array.\n",
    "# I applied the sort() to the Sex variable also in order to keep all the Male values at the end of this array.\n",
    "# This allowed me to ensure the \"X\" menstrual cycle values would line up with the \"Male\" sex values in the dataframe.\n",
    "# I then applied the df.replace to replace the X values with Nan in order to be able to perform data analytical techniques on the dataframe.\n",
    "# https://stackoverflow.com/questions/53668421/replace-a-string-value-with-nan-in-pandas-data-frame-python"
   ]
  },
  {
   "cell_type": "markdown",
   "metadata": {},
   "source": [
    "There are two measuring or quantitative variables in my dataset, namely Age and Training Hours Per Week. Distribution of these quantitative variables is best visualised using histograms and/or scatter plots.\n",
    "\n",
    "The other three variables would be classified as qualitiative variables. The distribution of these variables are best visualised using bar and pie charts."
   ]
  },
  {
   "cell_type": "markdown",
   "metadata": {},
   "source": [
    "### Table of Statistics"
   ]
  },
  {
   "cell_type": "code",
   "execution_count": 8,
   "metadata": {},
   "outputs": [
    {
     "name": "stdout",
     "output_type": "stream",
     "text": [
      "Table 1 - My Dataset Statistics\n",
      "+--------+---------+------------------+\n",
      "|  Stat  |     Age |   Training Hours |\n",
      "+========+=========+==================+\n",
      "|  mean  | 26.59   |         12.85    |\n",
      "+--------+---------+------------------+\n",
      "|  min   | 11      |          3       |\n",
      "+--------+---------+------------------+\n",
      "|  max   | 49      |         18       |\n",
      "+--------+---------+------------------+\n",
      "|  std   | 10.2595 |          3.66396 |\n",
      "+--------+---------+------------------+\n",
      "\n",
      "\n"
     ]
    }
   ],
   "source": [
    "print(\"Table 1 - My Dataset Statistics\")\n",
    "stats = df.agg({'Age': ['mean', 'min', 'max', 'std'],\n",
    "                           'Training Hours Per Week': ['mean', 'min', 'max', 'std']})\n",
    "print(tabulate(stats, headers = [\"Stat\", \"Age\", \"Training Hours\"], tablefmt='grid', stralign='center'))\n",
    "print('\\n')"
   ]
  },
  {
   "cell_type": "markdown",
   "metadata": {},
   "source": [
    "### Histograms of the Measuring Variables"
   ]
  },
  {
   "cell_type": "code",
   "execution_count": 9,
   "metadata": {},
   "outputs": [
    {
     "data": {
      "image/png": "[encoded data removed]",
      "text/plain": [
       "<Figure size 1200x600 with 1 Axes>"
      ]
     },
     "metadata": {},
     "output_type": "display_data"
    }
   ],
   "source": [
    "fig, ax = plt.subplots(figsize = (12,6))\n",
    "male = df[df.Sex == \"Male\"]\n",
    "female = df[df.Sex == \"Female\"]\n",
    "\n",
    "# sepal length histogram \n",
    "ax.set_title(\"Age Distribution\", fontweight='bold')\n",
    "ax.set(xlabel='Age')\n",
    "ax.set(ylabel=\"No. of Occurrences\")\n",
    "ax.hist(female['Age'], bins=7, alpha=0.5, label=\"Female\", color='red')\n",
    "ax.hist(male['Age'], bins=7, alpha=0.5, label=\"Male\", color='blue')\n",
    "ax.legend(loc='upper right');"
   ]
  },
  {
   "cell_type": "code",
   "execution_count": 10,
   "metadata": {},
   "outputs": [
    {
     "data": {
      "image/png": "[encoded data removed]",
      "text/plain": [
       "<Figure size 1200x600 with 1 Axes>"
      ]
     },
     "metadata": {},
     "output_type": "display_data"
    }
   ],
   "source": [
    "fig, ax = plt.subplots(figsize = (12,6))\n",
    "male = df[df.Sex == \"Male\"]\n",
    "female = df[df.Sex == \"Female\"]\n",
    "\n",
    "# sepal length histogram \n",
    "ax.set_title(\"Training Hours Distribution\", fontweight='bold')\n",
    "ax.set(xlabel='Training Hours')\n",
    "ax.set(ylabel=\"No. of Occurrences\")\n",
    "ax.hist(female['Training Hours Per Week'], bins=7, alpha=0.5, label=\"Female\", color='red')\n",
    "ax.hist(male['Training Hours Per Week'], bins=7, alpha=0.5, label=\"Male\", color='blue')\n",
    "ax.legend(loc='upper left');"
   ]
  },
  {
   "cell_type": "markdown",
   "metadata": {},
   "source": [
    "### Scatter Plots of the Measuring Variables\n",
    "\n",
    "- This plot displays the correlation (or in this case, the lack thereof) between the two variables\n",
    "- I decided to group the data by Menstrual Cycle Stage, to see if any inferences could be drawn from it"
   ]
  },
  {
   "cell_type": "code",
   "execution_count": 11,
   "metadata": {},
   "outputs": [
    {
     "data": {
      "image/png": "[encoded data removed]",
      "text/plain": [
       "<Figure size 640x480 with 1 Axes>"
      ]
     },
     "metadata": {},
     "output_type": "display_data"
    }
   ],
   "source": [
    "fig, ax = plt.subplots()\n",
    "colors = {'Female': 'red', 'Male' : 'blue'}\n",
    "\n",
    "grouped = df.groupby('Sex')\n",
    "for key, group in grouped:\n",
    "        group.plot(ax=ax, kind='scatter', x='Age', y='Training Hours Per Week', label=key, color=colors[key])\n",
    "\n",
    "plt.title(\"Scatter Plot of Age vs Training Hours\")\n",
    "plt.legend()\n",
    "plt.xlabel(\"Age\")\n",
    "plt.ylabel(\"Training Hours\")\n",
    "ax.legend(loc='center left', bbox_to_anchor=(1, 0.5))\n",
    "plt.show()"
   ]
  },
  {
   "cell_type": "code",
   "execution_count": null,
   "metadata": {},
   "outputs": [],
   "source": []
  },
  {
   "cell_type": "markdown",
   "metadata": {},
   "source": []
  },
  {
   "cell_type": "markdown",
   "metadata": {},
   "source": [
    "\n"
   ]
  }
 ],
 "metadata": {
  "kernelspec": {
   "display_name": "base",
   "language": "python",
   "name": "python3"
  },
  "language_info": {
   "codemirror_mode": {
    "name": "ipython",
    "version": 3
   },
   "file_extension": ".py",
   "mimetype": "text/x-python",
   "name": "python",
   "nbconvert_exporter": "python",
   "pygments_lexer": "ipython3",
   "version": "3.11.4"
  },
  "orig_nbformat": 4
 },
 "nbformat": 4,
 "nbformat_minor": 2
}
