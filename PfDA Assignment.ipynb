{
 "cells": [
  {
   "attachments": {},
   "cell_type": "markdown",
   "metadata": {},
   "source": [
    "## PfDA Assignment \n",
    "\n",
    "***"
   ]
  },
  {
   "cell_type": "markdown",
   "metadata": {},
   "source": [
    "Simulate data of a phenomenon:\n",
    "\n",
    "e.g. ACL injuries in women's professional football\n",
    "    injuries in women's football\n",
    "\n",
    "- at least 100 data points required\n",
    "- 4 variables:\n",
    "    e.g. age, trianing hours in week, kms covered in week, occupation (if not professional), previous injury, menstrual cycle\n",
    "\n",
    "Use a Jupyter notebook - use images, links, code etc\n",
    "\n",
    "Research likely relationships between variables, their distributions and relationships/ correlation with each other\n",
    "\n",
    "Simulate data by devising an algorithm\n",
    "\n"
   ]
  },
  {
   "cell_type": "markdown",
   "metadata": {},
   "source": [
    "## Introduction\n",
    "\n",
    "The phenomenon I have chosen to investigate in this project is the epidemic of Anterior Cruciate Ligament (ACL) injuries in athletes, in particular in female sport.\n",
    "\n",
    "The ACL is one of the main stabilizing ligaments in the knee. It connects the thigh bone (femur) to the shin bone (tibia). It is responsible for stabilising the knee as well as controlling any abnormal motion during twisting, turning and pivoting actions.\n",
    "\n",
    "![ACL](https://my.clevelandclinic.org/-/scassets/images/org/health/articles/16576-acl-tear)"
   ]
  },
  {
   "cell_type": "markdown",
   "metadata": {},
   "source": [
    "An ACL rupture is a serious injury that most often requires surgery to repair. Recovery time from an ACL rupture is typically in the range of 7-12 months from injury to return to play.\n",
    "\n",
    "As ACL injury most often occurs through twisting, pivoting and changing directons, injury is most common in athletes who compete in sports that involve these actions - in particular, soccer, basketball, etc. Here in Ireland, ACL injuries are also very common in GAA athletes.\n",
    "\n",
    "ACL injuries are also particulary prevalent in females, with females 4-8 times more likely that males to suffer an ACL injury.\n",
    "\n",
    "Through some research (and my own personal experience as someone who has suffered the dreaded ruptured ACL!), I have found that the following variables have a close relationship with ACL injury:\n",
    "\n",
    "- sex\n",
    "- age\n",
    "- mode of injury (in training/competition)\n",
    "- stage in menstrual cycle (female only)\n",
    "- previous injury\n",
    "- hours of training per week\n"
   ]
  },
  {
   "cell_type": "markdown",
   "metadata": {},
   "source": [
    "## Discussion on Variables\n",
    "\n",
    "### Sex\n",
    "\n",
    "4-8 times more likely for females than males\n",
    "https://pubmed.ncbi.nlm.nih.gov/9784805/\n",
    "\n",
    "### Age\n",
    "\n",
    "15-19 to 30-34 - consistent for males then starts to drop off\n",
    "15-19 extremely high in females then drops but stays consistent to 35-39 then starts to drop \n",
    "https://stillmed.olympics.com/media/Documents/Athletes/Medical-Scientific/Consensus-Statements/2008_non-contact-ACL-injuries-female-athletes.pdf\n",
    "\n",
    "after 30 athletes begin to retire\n",
    "\n",
    "\n",
    "Age Bracket Data: (ratios)\n",
    "Female:\n",
    "10-14 = 1\n",
    "15-19 = 8.5\n",
    "20-24 = 3\n",
    "25-29 = 3\n",
    "30-34 = 3\n",
    "35-39 = 3\n",
    "40-44 = 2\n",
    ">45 = 1.5\n",
    "\n",
    "Male:\n",
    "10-14 = 0\n",
    "15-19 = 3.5\n",
    "20-24 = 3.5\n",
    "25-29 = 3.5\n",
    "30-34 = 3.5\n",
    "35-39 = 3\n",
    "40-44 = 2\n",
    ">45 = 1\n",
    "\n",
    "\n",
    "### Hours of Training per Week\n",
    "Training hours greater than 10 hours per week - 7.5:1 than those less than 10 hours\n",
    "https://bjsm.bmj.com/content/51/4/392.3\n",
    "\n",
    "### Previous Injury\n",
    "Prior injury to ACL is heavily linked to re-injury of the ligament - 6:1 more likely to injure ACL then someone who has not injured it previously\n",
    "https://journals.sagepub.com/doi/10.1177/0363546514530088\n",
    "\n",
    "### Menstrual Cycle Stage\n",
    "\n",
    "Follicular (Day 1-9) approx 37%\n",
    "Ovulatory (Day 10 - 14) approx 26%\n",
    "Luteal (Day 15-28) approx 37%\n",
    "https://www.ncbi.nlm.nih.gov/pmc/articles/PMC164356/#:~:text=We%20found%20that%2026%20of,onset%20of%20menses%20(Figure%20%E2%80%8B\n",
    "\n",
    "### Mode of Injury\n",
    "\n",
    "Higher in competition than in training/practice - approx 7:1 \n",
    "https://www.ncbi.nlm.nih.gov/pmc/articles/PMC3867093/"
   ]
  },
  {
   "cell_type": "markdown",
   "metadata": {},
   "source": [
    "## Dataset Synthesis"
   ]
  },
  {
   "cell_type": "markdown",
   "metadata": {},
   "source": [
    "To create data based on the research above, I will use numpy random number generator. The data will be synthesises based on a normal distribution.\n",
    "a dataset with 200 rows will be created. It will represent data for 200 athletes who have suffered ACL injuries. The variables in the data set will be:\n",
    "- Sex\n",
    "- Age\n",
    "- Mode of Injury\n",
    "- Training Hours per week\n",
    "- Menstrual Cycle Stage (Female only)"
   ]
  },
  {
   "cell_type": "code",
   "execution_count": 8,
   "metadata": {},
   "outputs": [],
   "source": [
    "#Importing of Packages\n",
    "\n",
    "import pandas as pd\n",
    "import matplotlib.pyplot as plt\n",
    "import numpy as np\n",
    "import random\n"
   ]
  },
  {
   "cell_type": "code",
   "execution_count": 2,
   "metadata": {},
   "outputs": [
    {
     "data": {
      "text/plain": [
       "array(['Female', 'Female', 'Female', 'Female', 'Female', 'Male', 'Female',\n",
       "       'Female', 'Female', 'Female', 'Female', 'Female', 'Female',\n",
       "       'Female', 'Female', 'Female', 'Female', 'Female', 'Male', 'Female',\n",
       "       'Female', 'Female', 'Male', 'Female', 'Female', 'Female', 'Male',\n",
       "       'Male', 'Female', 'Female', 'Female', 'Female', 'Male', 'Female',\n",
       "       'Female', 'Female', 'Female', 'Female', 'Female', 'Female',\n",
       "       'Female', 'Female', 'Female', 'Female', 'Male', 'Female', 'Female',\n",
       "       'Female', 'Female', 'Female', 'Female', 'Female', 'Female',\n",
       "       'Female', 'Female', 'Female', 'Male', 'Female', 'Female', 'Female',\n",
       "       'Female', 'Female', 'Female', 'Female', 'Female', 'Male', 'Female',\n",
       "       'Female', 'Female', 'Female', 'Female', 'Male', 'Female', 'Female',\n",
       "       'Female', 'Male', 'Female', 'Female', 'Female', 'Female', 'Female',\n",
       "       'Female', 'Female', 'Female', 'Female', 'Female', 'Female',\n",
       "       'Female', 'Female', 'Female', 'Female', 'Male', 'Female', 'Male',\n",
       "       'Female', 'Female', 'Female', 'Female', 'Female', 'Male', 'Female',\n",
       "       'Female', 'Female', 'Female', 'Female', 'Female', 'Female',\n",
       "       'Female', 'Female', 'Female', 'Female', 'Female', 'Female', 'Male',\n",
       "       'Female', 'Female', 'Female', 'Female', 'Male', 'Female', 'Female',\n",
       "       'Female', 'Female', 'Female', 'Male', 'Female', 'Female', 'Female',\n",
       "       'Female', 'Male', 'Female', 'Female', 'Male', 'Female', 'Female',\n",
       "       'Female', 'Female', 'Female', 'Female', 'Female', 'Female',\n",
       "       'Female', 'Female', 'Female', 'Female', 'Female', 'Female',\n",
       "       'Female', 'Female', 'Female', 'Female', 'Female', 'Male', 'Female',\n",
       "       'Female', 'Male', 'Female', 'Female', 'Female', 'Female', 'Female',\n",
       "       'Male', 'Male', 'Male', 'Female', 'Female', 'Female', 'Female',\n",
       "       'Male', 'Male', 'Female', 'Female', 'Female', 'Male', 'Female',\n",
       "       'Female', 'Female', 'Female', 'Female', 'Female', 'Female',\n",
       "       'Female', 'Female', 'Female', 'Female', 'Male', 'Male', 'Female',\n",
       "       'Female', 'Female', 'Female', 'Female', 'Female', 'Female',\n",
       "       'Female', 'Female', 'Female', 'Male', 'Female', 'Female'],\n",
       "      dtype='<U6')"
      ]
     },
     "execution_count": 2,
     "metadata": {},
     "output_type": "execute_result"
    }
   ],
   "source": [
    "# Sex Variable data\n",
    "# I took a value of 5:1 females to males as per research, erring on the side of caution\n",
    "\n",
    "rng = np.random.default_rng()\n",
    "sex_choice = [\"Male\", \"Female\"]\n",
    "sex = rng.choice(sex_choice, p =[0.17, 0.83], size=200)\n",
    "\n",
    "sex\n"
   ]
  },
  {
   "cell_type": "code",
   "execution_count": 5,
   "metadata": {},
   "outputs": [
    {
     "data": {
      "text/plain": [
       "array(['20-24', '>45', '40-44', '25-29', '20-24', '20-24', '35-39', '>45',\n",
       "       '25-29', '35-39', '25-29', '25-29', '20-24', '30-34', '15-19',\n",
       "       '40-44', '>45', '30-34', '>45', '15-19', '15-19', '25-29', '40-44',\n",
       "       '20-24', '30-34', '15-19', '30-34', '30-34', '20-24', '25-29',\n",
       "       '30-34', '40-44', '>45', '25-29'], dtype='<U5')"
      ]
     },
     "execution_count": 5,
     "metadata": {},
     "output_type": "execute_result"
    }
   ],
   "source": [
    "# Age Variable data\n",
    "# I took a value of 5:1 females to males as per research, erring on the side of caution\n",
    "\n",
    "'''Age Bracket Data: (ratios)\n",
    "Female:\n",
    "10-14 = 1\n",
    "15-19 = 8.5\n",
    "20-24 = 3\n",
    "25-29 = 3\n",
    "30-34 = 3\n",
    "35-39 = 3\n",
    "40-44 = 2\n",
    ">45 = 1.5\n",
    "\n",
    "Male:\n",
    "10-14 = 0\n",
    "15-19 = 3.5\n",
    "20-24 = 3.5\n",
    "25-29 = 3.5\n",
    "30-34 = 3.5\n",
    "35-39 = 3\n",
    "40-44 = 2\n",
    ">45 = 1'''\n",
    "\n",
    "rng = np.random.default_rng()\n",
    "age_choice = [\"10-14\", \"15-19\", \"20-24\", \"25-29\", \"30-34\", \"35-39\", \"40-44\", \">45\"]\n",
    "if (sex == \"Male\").any():\n",
    "    male_age = rng.choice(age_choice, p =[0, 0.175, 0.175, 0.175, 0.175, 0.15, 0.1, 0.05], size=34)\n",
    "\n",
    "male_age"
   ]
  },
  {
   "cell_type": "code",
   "execution_count": 6,
   "metadata": {},
   "outputs": [
    {
     "data": {
      "text/plain": [
       "array(['20-24', '15-19', '15-19', '15-19', '15-19', '25-29', '15-19',\n",
       "       '10-14', '15-19', '15-19', '15-19', '20-24', '>45', '20-24',\n",
       "       '15-19', '30-34', '40-44', '>45', '40-44', '15-19', '30-34',\n",
       "       '15-19', '20-24', '25-29', '40-44', '30-34', '15-19', '25-29',\n",
       "       '15-19', '10-14', '40-44', '25-29', '40-44', '15-19', '15-19',\n",
       "       '30-34', '>45', '15-19', '>45', '35-39', '25-29', '30-34', '30-34',\n",
       "       '20-24', '15-19', '40-44', '15-19', '15-19', '35-39', '30-34',\n",
       "       '15-19', '40-44', '40-44', '40-44', '>45', '15-19', '30-34',\n",
       "       '35-39', '20-24', '15-19', '15-19', '30-34', '10-14', '20-24',\n",
       "       '30-34', '25-29', '>45', '15-19', '25-29', '20-24', '15-19',\n",
       "       '20-24', '40-44', '15-19', '10-14', '20-24', '15-19', '35-39',\n",
       "       '35-39', '25-29', '25-29', '20-24', '10-14', '25-29', '15-19',\n",
       "       '15-19', '20-24', '30-34', '15-19', '35-39', '>45', '15-19',\n",
       "       '30-34', '40-44', '30-34', '30-34', '20-24', '20-24', '35-39',\n",
       "       '20-24', '25-29', '15-19', '30-34', '35-39', '40-44', '15-19',\n",
       "       '20-24', '20-24', '20-24', '15-19', '>45', '15-19', '10-14', '>45',\n",
       "       '15-19', '20-24', '30-34', '15-19', '15-19', '30-34', '30-34',\n",
       "       '15-19', '15-19', '35-39', '35-39', '15-19', '10-14', '35-39',\n",
       "       '30-34', '15-19', '15-19', '15-19', '25-29', '20-24', '15-19',\n",
       "       '15-19', '35-39', '15-19', '15-19', '40-44', '20-24', '35-39',\n",
       "       '15-19', '20-24', '>45', '15-19', '35-39', '40-44', '25-29',\n",
       "       '35-39', '20-24', '35-39', '15-19', '25-29', '25-29', '30-34',\n",
       "       '15-19', '30-34', '15-19', '20-24', '15-19', '15-19', '30-34',\n",
       "       '10-14', '15-19', '15-19'], dtype='<U5')"
      ]
     },
     "execution_count": 6,
     "metadata": {},
     "output_type": "execute_result"
    }
   ],
   "source": [
    "if (sex == \"Female\").any():\n",
    "    female_age = rng.choice(age_choice, p =[0.04, 0.34, 0.12, 0.12, 0.12, 0.12, 0.08, 0.06], size=166)\n",
    "\n",
    "female_age"
   ]
  },
  {
   "cell_type": "code",
   "execution_count": 39,
   "metadata": {},
   "outputs": [
    {
     "data": {
      "text/plain": [
       "array([14, 14, 14, 14, 14,  3, 14, 14, 14,  3, 14, 14, 14, 14, 14, 14, 14,\n",
       "       14, 14,  3, 14, 14, 14,  3, 14, 14,  3, 14,  3, 14, 14, 14,  3, 14,\n",
       "       14, 14, 14, 14, 14,  3, 14, 14, 14, 14, 14, 14, 14,  3, 14, 14, 14,\n",
       "        3, 14,  3, 14, 14, 14, 14, 14, 14, 14, 14, 14, 14, 14, 14, 14,  3,\n",
       "       14, 14, 14, 14, 14,  3, 14, 14,  3,  3, 14, 14, 14, 14, 14, 14, 14,\n",
       "       14, 14, 14, 14, 14, 14, 14, 14, 14, 14, 14, 14,  3, 14, 14, 14, 14,\n",
       "       14, 14, 14, 14, 14, 14, 14, 14,  3, 14, 14, 14, 14, 14,  3, 14, 14,\n",
       "       14, 14, 14, 14, 14,  3, 14, 14, 14, 14, 14, 14, 14, 14, 14, 14, 14,\n",
       "       14, 14, 14, 14, 14, 14, 14, 14, 14, 14, 14, 14,  3, 14, 14, 14, 14,\n",
       "       14, 14, 14,  3, 14, 14, 14, 14, 14, 14, 14, 14, 14, 14, 14,  3, 14,\n",
       "       14, 14, 14, 14, 14,  3, 14, 14, 14, 14, 14, 14,  3, 14, 14, 14, 14,\n",
       "       14, 14, 14, 14, 14, 14, 14, 14, 14, 14, 14, 14, 14])"
      ]
     },
     "execution_count": 39,
     "metadata": {},
     "output_type": "execute_result"
    }
   ],
   "source": [
    "# Training Hours Variable data\n",
    "# I took a value of 7:1 as per research\n",
    "\n",
    "rng = np.random.default_rng()\n",
    "from random import randrange\n",
    "lessthantenrange = randrange(3, 9)\n",
    "greaterthantenrange = randrange(10, 18)\n",
    "traininghours_choice = [lessthantenrange, greaterthantenrange]\n",
    "training_hours = rng.choice(traininghours_choice, p =[0.12, 0.88], size=200)\n",
    "\n",
    "training_hours"
   ]
  },
  {
   "cell_type": "code",
   "execution_count": 40,
   "metadata": {},
   "outputs": [
    {
     "data": {
      "text/plain": [
       "array(['Competition', 'Competition', 'Training', 'Competition',\n",
       "       'Competition', 'Competition', 'Competition', 'Training',\n",
       "       'Competition', 'Competition', 'Competition', 'Training',\n",
       "       'Competition', 'Competition', 'Competition', 'Competition',\n",
       "       'Training', 'Competition', 'Competition', 'Competition',\n",
       "       'Competition', 'Competition', 'Competition', 'Competition',\n",
       "       'Competition', 'Competition', 'Training', 'Competition',\n",
       "       'Competition', 'Competition', 'Competition', 'Competition',\n",
       "       'Competition', 'Competition', 'Training', 'Competition',\n",
       "       'Competition', 'Competition', 'Competition', 'Training',\n",
       "       'Competition', 'Competition', 'Training', 'Training',\n",
       "       'Competition', 'Competition', 'Competition', 'Competition',\n",
       "       'Competition', 'Training', 'Training', 'Competition', 'Training',\n",
       "       'Competition', 'Competition', 'Competition', 'Competition',\n",
       "       'Competition', 'Competition', 'Competition', 'Competition',\n",
       "       'Competition', 'Competition', 'Competition', 'Competition',\n",
       "       'Competition', 'Competition', 'Competition', 'Competition',\n",
       "       'Competition', 'Competition', 'Training', 'Competition',\n",
       "       'Competition', 'Competition', 'Competition', 'Competition',\n",
       "       'Competition', 'Competition', 'Competition', 'Competition',\n",
       "       'Competition', 'Competition', 'Competition', 'Competition',\n",
       "       'Competition', 'Competition', 'Competition', 'Competition',\n",
       "       'Training', 'Competition', 'Competition', 'Competition',\n",
       "       'Competition', 'Training', 'Competition', 'Competition',\n",
       "       'Competition', 'Competition', 'Competition', 'Competition',\n",
       "       'Competition', 'Competition', 'Competition', 'Competition',\n",
       "       'Competition', 'Competition', 'Competition', 'Competition',\n",
       "       'Competition', 'Competition', 'Competition', 'Training',\n",
       "       'Competition', 'Competition', 'Competition', 'Training',\n",
       "       'Training', 'Training', 'Training', 'Competition', 'Training',\n",
       "       'Competition', 'Competition', 'Competition', 'Competition',\n",
       "       'Competition', 'Competition', 'Competition', 'Competition',\n",
       "       'Competition', 'Competition', 'Competition', 'Competition',\n",
       "       'Competition', 'Competition', 'Competition', 'Competition',\n",
       "       'Competition', 'Competition', 'Competition', 'Competition',\n",
       "       'Competition', 'Competition', 'Competition', 'Competition',\n",
       "       'Competition', 'Competition', 'Training', 'Competition',\n",
       "       'Competition', 'Competition', 'Competition', 'Competition',\n",
       "       'Training', 'Competition', 'Competition', 'Competition',\n",
       "       'Competition', 'Competition', 'Competition', 'Competition',\n",
       "       'Competition', 'Competition', 'Competition', 'Competition',\n",
       "       'Competition', 'Training', 'Competition', 'Competition',\n",
       "       'Competition', 'Training', 'Competition', 'Competition',\n",
       "       'Training', 'Competition', 'Competition', 'Competition',\n",
       "       'Training', 'Competition', 'Competition', 'Competition',\n",
       "       'Competition', 'Competition', 'Competition', 'Competition',\n",
       "       'Competition', 'Competition', 'Competition', 'Training',\n",
       "       'Competition', 'Competition', 'Competition', 'Competition',\n",
       "       'Competition', 'Competition', 'Training', 'Competition',\n",
       "       'Competition', 'Competition'], dtype='<U11')"
      ]
     },
     "execution_count": 40,
     "metadata": {},
     "output_type": "execute_result"
    }
   ],
   "source": [
    "# Mode of Injury Variable data\n",
    "# I took a value of 7.5:1 as per research\n",
    "\n",
    "rng = np.random.default_rng()\n",
    "modeofinjury_choice = [\"Competition\", \"Training\"]\n",
    "modeofinjury = rng.choice(modeofinjury_choice, p =[0.875, 0.125], size=200)\n",
    "\n",
    "modeofinjury"
   ]
  },
  {
   "cell_type": "code",
   "execution_count": 43,
   "metadata": {},
   "outputs": [
    {
     "data": {
      "text/plain": [
       "array(['Luteal (Day 15-28)', 'Luteal (Day 15-28)',\n",
       "       'Ovulatory (Day 10-14)', 'Follicular (Day 1-9)',\n",
       "       'Follicular (Day 1-9)', 'Follicular (Day 1-9)',\n",
       "       'Follicular (Day 1-9)', 'Follicular (Day 1-9)',\n",
       "       'Luteal (Day 15-28)', 'Follicular (Day 1-9)',\n",
       "       'Ovulatory (Day 10-14)', 'Follicular (Day 1-9)',\n",
       "       'Follicular (Day 1-9)', 'Luteal (Day 15-28)', 'Luteal (Day 15-28)',\n",
       "       'Follicular (Day 1-9)', 'Luteal (Day 15-28)',\n",
       "       'Ovulatory (Day 10-14)', 'Luteal (Day 15-28)',\n",
       "       'Luteal (Day 15-28)', 'Luteal (Day 15-28)', 'Luteal (Day 15-28)',\n",
       "       'Follicular (Day 1-9)', 'Ovulatory (Day 10-14)',\n",
       "       'Luteal (Day 15-28)', 'Luteal (Day 15-28)', 'Follicular (Day 1-9)',\n",
       "       'Luteal (Day 15-28)', 'Follicular (Day 1-9)',\n",
       "       'Ovulatory (Day 10-14)', 'Luteal (Day 15-28)',\n",
       "       'Luteal (Day 15-28)', 'Follicular (Day 1-9)',\n",
       "       'Follicular (Day 1-9)', 'Ovulatory (Day 10-14)',\n",
       "       'Ovulatory (Day 10-14)', 'Ovulatory (Day 10-14)',\n",
       "       'Follicular (Day 1-9)', 'Follicular (Day 1-9)',\n",
       "       'Ovulatory (Day 10-14)', 'Follicular (Day 1-9)',\n",
       "       'Luteal (Day 15-28)', 'Follicular (Day 1-9)',\n",
       "       'Follicular (Day 1-9)', 'Follicular (Day 1-9)',\n",
       "       'Follicular (Day 1-9)', 'Ovulatory (Day 10-14)',\n",
       "       'Follicular (Day 1-9)', 'Ovulatory (Day 10-14)',\n",
       "       'Follicular (Day 1-9)', 'Luteal (Day 15-28)',\n",
       "       'Follicular (Day 1-9)', 'Follicular (Day 1-9)',\n",
       "       'Follicular (Day 1-9)', 'Luteal (Day 15-28)', 'Luteal (Day 15-28)',\n",
       "       'Ovulatory (Day 10-14)', 'Follicular (Day 1-9)',\n",
       "       'Luteal (Day 15-28)', 'Follicular (Day 1-9)',\n",
       "       'Follicular (Day 1-9)', 'Ovulatory (Day 10-14)',\n",
       "       'Follicular (Day 1-9)', 'Follicular (Day 1-9)',\n",
       "       'Ovulatory (Day 10-14)', 'Ovulatory (Day 10-14)',\n",
       "       'Follicular (Day 1-9)', 'Follicular (Day 1-9)',\n",
       "       'Ovulatory (Day 10-14)', 'Follicular (Day 1-9)',\n",
       "       'Follicular (Day 1-9)', 'Luteal (Day 15-28)', 'Luteal (Day 15-28)',\n",
       "       'Luteal (Day 15-28)', 'Luteal (Day 15-28)', 'Luteal (Day 15-28)',\n",
       "       'Luteal (Day 15-28)', 'Luteal (Day 15-28)', 'Luteal (Day 15-28)',\n",
       "       'Follicular (Day 1-9)', 'Ovulatory (Day 10-14)',\n",
       "       'Ovulatory (Day 10-14)', 'Luteal (Day 15-28)',\n",
       "       'Follicular (Day 1-9)', 'Luteal (Day 15-28)', 'Luteal (Day 15-28)',\n",
       "       'Follicular (Day 1-9)', 'Luteal (Day 15-28)', 'Luteal (Day 15-28)',\n",
       "       'Luteal (Day 15-28)', 'Luteal (Day 15-28)',\n",
       "       'Ovulatory (Day 10-14)', 'Follicular (Day 1-9)',\n",
       "       'Follicular (Day 1-9)', 'Follicular (Day 1-9)',\n",
       "       'Ovulatory (Day 10-14)', 'Luteal (Day 15-28)',\n",
       "       'Luteal (Day 15-28)', 'Luteal (Day 15-28)',\n",
       "       'Ovulatory (Day 10-14)', 'Follicular (Day 1-9)',\n",
       "       'Luteal (Day 15-28)', 'Ovulatory (Day 10-14)',\n",
       "       'Luteal (Day 15-28)', 'Follicular (Day 1-9)',\n",
       "       'Ovulatory (Day 10-14)', 'Follicular (Day 1-9)',\n",
       "       'Luteal (Day 15-28)', 'Luteal (Day 15-28)', 'Follicular (Day 1-9)',\n",
       "       'Follicular (Day 1-9)', 'Follicular (Day 1-9)',\n",
       "       'Follicular (Day 1-9)', 'Luteal (Day 15-28)', 'Luteal (Day 15-28)',\n",
       "       'Follicular (Day 1-9)', 'Ovulatory (Day 10-14)',\n",
       "       'Ovulatory (Day 10-14)', 'Ovulatory (Day 10-14)',\n",
       "       'Luteal (Day 15-28)', 'Follicular (Day 1-9)',\n",
       "       'Ovulatory (Day 10-14)', 'Luteal (Day 15-28)',\n",
       "       'Luteal (Day 15-28)', 'Luteal (Day 15-28)', 'Luteal (Day 15-28)',\n",
       "       'Luteal (Day 15-28)', 'Luteal (Day 15-28)',\n",
       "       'Ovulatory (Day 10-14)', 'Follicular (Day 1-9)',\n",
       "       'Ovulatory (Day 10-14)', 'Ovulatory (Day 10-14)',\n",
       "       'Follicular (Day 1-9)', 'Ovulatory (Day 10-14)',\n",
       "       'Follicular (Day 1-9)', 'Luteal (Day 15-28)', 'Luteal (Day 15-28)',\n",
       "       'Ovulatory (Day 10-14)', 'Luteal (Day 15-28)',\n",
       "       'Follicular (Day 1-9)', 'Luteal (Day 15-28)', 'Luteal (Day 15-28)',\n",
       "       'Ovulatory (Day 10-14)', 'Luteal (Day 15-28)',\n",
       "       'Luteal (Day 15-28)', 'Luteal (Day 15-28)', 'Follicular (Day 1-9)',\n",
       "       'Luteal (Day 15-28)', 'Follicular (Day 1-9)',\n",
       "       'Ovulatory (Day 10-14)', 'Follicular (Day 1-9)',\n",
       "       'Luteal (Day 15-28)', 'Ovulatory (Day 10-14)',\n",
       "       'Ovulatory (Day 10-14)', 'Follicular (Day 1-9)',\n",
       "       'Luteal (Day 15-28)', 'Ovulatory (Day 10-14)',\n",
       "       'Ovulatory (Day 10-14)', 'Follicular (Day 1-9)',\n",
       "       'Follicular (Day 1-9)', 'Follicular (Day 1-9)',\n",
       "       'Luteal (Day 15-28)', 'Follicular (Day 1-9)',\n",
       "       'Ovulatory (Day 10-14)', 'Follicular (Day 1-9)',\n",
       "       'Ovulatory (Day 10-14)', 'Luteal (Day 15-28)',\n",
       "       'Luteal (Day 15-28)', 'Luteal (Day 15-28)', 'Luteal (Day 15-28)',\n",
       "       'Follicular (Day 1-9)', 'Luteal (Day 15-28)', 'Luteal (Day 15-28)',\n",
       "       'Follicular (Day 1-9)', 'Follicular (Day 1-9)',\n",
       "       'Follicular (Day 1-9)', 'Follicular (Day 1-9)',\n",
       "       'Luteal (Day 15-28)', 'Luteal (Day 15-28)',\n",
       "       'Ovulatory (Day 10-14)', 'Follicular (Day 1-9)',\n",
       "       'Luteal (Day 15-28)', 'Ovulatory (Day 10-14)',\n",
       "       'Follicular (Day 1-9)', 'Ovulatory (Day 10-14)',\n",
       "       'Luteal (Day 15-28)', 'Luteal (Day 15-28)', 'Follicular (Day 1-9)',\n",
       "       'Luteal (Day 15-28)', 'Follicular (Day 1-9)', 'Luteal (Day 15-28)',\n",
       "       'Luteal (Day 15-28)', 'Follicular (Day 1-9)',\n",
       "       'Follicular (Day 1-9)', 'Luteal (Day 15-28)',\n",
       "       'Follicular (Day 1-9)', 'Luteal (Day 15-28)',\n",
       "       'Follicular (Day 1-9)', 'Luteal (Day 15-28)', 'Luteal (Day 15-28)'],\n",
       "      dtype='<U21')"
      ]
     },
     "execution_count": 43,
     "metadata": {},
     "output_type": "execute_result"
    }
   ],
   "source": [
    "# Menstrual Cycle Variable data\n",
    "# From research, there are three main stages: \n",
    "'''Follicular (Day 1-9) approx 37%\n",
    "Ovulatory (Day 10 - 14) approx 26%\n",
    "Luteal (Day 15-28) approx 37%'''\n",
    "\n",
    "rng = np.random.default_rng()\n",
    "menstrualcycle_choice = [\"Follicular (Day 1-9)\", \"Ovulatory (Day 10-14)\", \"Luteal (Day 15-28)\"]\n",
    "menstrualcycle = rng.choice(menstrualcycle_choice, p =[0.37, 0.26, 0.37], size=200)\n",
    "\n",
    "menstrualcycle"
   ]
  },
  {
   "cell_type": "markdown",
   "metadata": {},
   "source": []
  },
  {
   "cell_type": "markdown",
   "metadata": {},
   "source": [
    "\n"
   ]
  }
 ],
 "metadata": {
  "kernelspec": {
   "display_name": "base",
   "language": "python",
   "name": "python3"
  },
  "language_info": {
   "codemirror_mode": {
    "name": "ipython",
    "version": 3
   },
   "file_extension": ".py",
   "mimetype": "text/x-python",
   "name": "python",
   "nbconvert_exporter": "python",
   "pygments_lexer": "ipython3",
   "version": "3.11.4"
  },
  "orig_nbformat": 4
 },
 "nbformat": 4,
 "nbformat_minor": 2
}
