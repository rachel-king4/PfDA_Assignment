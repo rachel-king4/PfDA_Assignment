{
 "cells": [
  {
   "attachments": {},
   "cell_type": "markdown",
   "metadata": {},
   "source": [
    "## PfDA Assignment \n",
    "\n",
    "***"
   ]
  },
  {
   "cell_type": "markdown",
   "metadata": {},
   "source": [
    "Simulate data of a phenomenon:\n",
    "\n",
    "e.g. ACL injuries in women's professional football\n",
    "    injuries in women's football\n",
    "\n",
    "- at least 100 data points required\n",
    "- 4 variables:\n",
    "    e.g. age, trianing hours in week, kms covered in week, occupation (if not professional), previous injury, menstrual cycle\n",
    "\n",
    "Use a Jupyter notebook - use images, links, code etc\n",
    "\n",
    "Research likely relationships between variables, their distributions and relationships/ correlation with each other\n",
    "\n",
    "Simulate data by devising an algorithm\n",
    "\n"
   ]
  },
  {
   "cell_type": "markdown",
   "metadata": {},
   "source": [
    "## Introduction\n",
    "\n",
    "The phenomenon I have chosen to investigate in this project is the epidemic of Anterior Cruciate Ligament (ACL) injuries in athletes, in particular in female sport.\n",
    "\n",
    "The ACL is one of the main stabilizing ligaments in the knee. It connects the thigh bone (femur) to the shin bone (tibia). It is responsible for stabilising the knee as well as controlling any abnormal motion during twisting, turning and pivoting actions.\n",
    "\n",
    "![ACL](https://my.clevelandclinic.org/-/scassets/images/org/health/articles/16576-acl-tear)"
   ]
  },
  {
   "cell_type": "markdown",
   "metadata": {},
   "source": [
    "An ACL rupture is a serious injury that most often requires surgery to repair. Recovery time from an ACL rupture is typically in the range of 7-12 months from injury to return to play.\n",
    "\n",
    "As ACL injury most often occurs through twisting, pivoting and changing directons, injury is most common in athletes who compete in sports that involve these actions - in particular, soccer, basketball, etc. Here in Ireland, ACL injuries are also very common in GAA athletes.\n",
    "\n",
    "ACL injuries are also particulary prevalent in females, with females 4-8 times more likely that males to suffer an ACL injury.\n",
    "\n",
    "Through some research (and my own personal experience as someone who has suffered the dreaded ruptured ACL!), I have found that the following variables have a close relationship with ACL injury:\n",
    "\n",
    "- sex\n",
    "- age\n",
    "- mode of injury (in training/competition)\n",
    "- stage in menstrual cycle (female only)\n",
    "- previous injury\n",
    "- hours of training per week\n"
   ]
  },
  {
   "cell_type": "markdown",
   "metadata": {},
   "source": [
    "## Discussion on Variables\n",
    "\n",
    "### Sex\n",
    "\n",
    "4-8 times more likely for females than males\n",
    "https://pubmed.ncbi.nlm.nih.gov/9784805/\n",
    "\n",
    "### Age\n",
    "\n",
    "15-19 to 30-34 - consistent for males then starts to drop off\n",
    "15-19 extremely high in females then drops but stays consistent to 35-39 then starts to drop \n",
    "https://stillmed.olympics.com/media/Documents/Athletes/Medical-Scientific/Consensus-Statements/2008_non-contact-ACL-injuries-female-athletes.pdf\n",
    "\n",
    "after 30 athletes begin to retire\n",
    "\n",
    "\n",
    "### Hours of Training per Week\n",
    "\n",
    "\n",
    "### Previous Injury\n",
    "\n",
    "\n",
    "### Menstrual Cycle Stage\n",
    "\n",
    "Follicular (Day 1-9) approx 37%\n",
    "Ovulatory (Day 10 - 14) approx 26%\n",
    "Luteal (Day 15-28) approx 37%\n",
    "https://www.ncbi.nlm.nih.gov/pmc/articles/PMC164356/#:~:text=We%20found%20that%2026%20of,onset%20of%20menses%20(Figure%20%E2%80%8B\n",
    "\n",
    "### Mode of Injury\n",
    "\n"
   ]
  },
  {
   "cell_type": "markdown",
   "metadata": {},
   "source": [
    "## Dataset Synthesis"
   ]
  },
  {
   "cell_type": "markdown",
   "metadata": {},
   "source": []
  }
 ],
 "metadata": {
  "language_info": {
   "name": "python"
  },
  "orig_nbformat": 4
 },
 "nbformat": 4,
 "nbformat_minor": 2
}
