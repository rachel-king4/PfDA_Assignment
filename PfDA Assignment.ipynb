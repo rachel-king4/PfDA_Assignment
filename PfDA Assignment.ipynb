{
 "cells": [
  {
   "attachments": {},
   "cell_type": "markdown",
   "metadata": {},
   "source": [
    "## PfDA Assignment \n",
    "\n",
    "***"
   ]
  },
  {
   "cell_type": "markdown",
   "metadata": {},
   "source": [
    "Simulate data of a phenomenon:\n",
    "\n",
    "e.g. ACL injuries in women's professional football\n",
    "    injuries in women's football\n",
    "\n",
    "- at least 100 data points required\n",
    "- 4 variables:\n",
    "    e.g. age, trianing hours in week, kms covered in week, occupation (if not professional), previous injury, menstrual cycle\n",
    "\n",
    "Use a Jupyter notebook - use images, links, code etc\n",
    "\n",
    "Research likely relationships between variables, their distributions and relationships/ correlation with each other\n",
    "\n",
    "Simulate data by devising an algorithm\n",
    "\n",
    "\n",
    "***\n"
   ]
  },
  {
   "cell_type": "markdown",
   "metadata": {},
   "source": [
    "## Introduction\n",
    "\n",
    "The phenomenon I have chosen to investigate in this project is the epidemic of Anterior Cruciate Ligament (ACL) injuries in athletes, in particular in female sport.\n",
    "\n",
    "The ACL is one of the main stabilizing ligaments in the knee. It connects the thigh bone (femur) to the shin bone (tibia). It is responsible for stabilising the knee as well as controlling any abnormal motion during twisting, turning and pivoting actions.\n",
    "\n",
    "![ACL](https://my.clevelandclinic.org/-/scassets/images/org/health/articles/16576-acl-tear)"
   ]
  },
  {
   "cell_type": "markdown",
   "metadata": {},
   "source": [
    "An ACL rupture is a serious injury that most often requires surgery to repair. Recovery time from an ACL rupture is typically in the range of 7-12 months from injury to return to play.\n",
    "\n",
    "As ACL injury most often occurs through twisting, pivoting and changing directons, injury is most common in athletes who compete in sports that involve these actions - in particular, soccer, basketball, etc. Here in Ireland, ACL injuries are also very common in GAA athletes.\n",
    "\n",
    "ACL injuries are also particulary prevalent in females, with females 4-8 times more likely that males to suffer an ACL injury.\n",
    "\n",
    "Through some research (and my own personal experience as someone who has suffered the dreaded ruptured ACL!), I have found that the following variables have a close relationship with ACL injury:\n",
    "\n",
    "- sex\n",
    "- age\n",
    "- mode of injury (in training/competition)\n",
    "- stage in menstrual cycle (female only)\n",
    "- previous injury\n",
    "- hours of training per week\n",
    "\n",
    "\n",
    "***"
   ]
  },
  {
   "cell_type": "markdown",
   "metadata": {},
   "source": [
    "## Discussion on Variables\n",
    "\n",
    "### Sex\n",
    "\n",
    "- 4-8 times more likely for females than males\n",
    "- #https://pubmed.ncbi.nlm.nih.gov/9784805/\n",
    "\n",
    "- I decided to focus this project on females only, so there will be no sex variable in the dataset\n",
    "\n",
    "### Age\n",
    "\n",
    "- 15-19 to 30-34 - consistent for males then starts to drop off\n",
    "- 15-19 extremely high in females then drops but stays consistent to 35-39 then starts to drop\n",
    "- https://stillmed.olympics.com/media/Documents/Athletes/Medical-Scientific/Consensus-Statements/2008_non-contact-ACL-injuries-female-athletes.pdf\n",
    "\n",
    "- after 30 athletes begin to retire\n",
    "\n",
    "\n",
    "- Age Bracket Data: (ratios)\n",
    "Female:\n",
    "10-14 = 1\n",
    "15-19 = 8.5\n",
    "20-24 = 3\n",
    "25-29 = 3\n",
    "30-34 = 3\n",
    "35-39 = 3\n",
    "40-44 = 2\n",
    "Greater than 45 = 1.5\n",
    "\n",
    "Male:\n",
    "10-14 = 0\n",
    "15-19 = 3.5\n",
    "20-24 = 3.5\n",
    "25-29 = 3.5\n",
    "30-34 = 3.5\n",
    "35-39 = 3\n",
    "40-44 = 2\n",
    "Greater than 45 = 1\n",
    "\n",
    "\n",
    "### Hours of Training per Week\n",
    "- Training hours greater than 10 hours per week - 7.5:1 than those less than 10 hours\n",
    "- #https://bjsm.bmj.com/content/51/4/392.3\n",
    "\n",
    "### Previous Injury\n",
    "- Prior injury to ACL is heavily linked to re-injury of the ligament - 6:1 more likely to injure ACL then someone who has not injured it previously\n",
    "- #https://journals.sagepub.com/doi/10.1177/0363546514530088\n",
    "\n",
    "### Menstrual Cycle Stage\n",
    "\n",
    "- Follicular (Day 1-9) approx 37%\n",
    "- Ovulatory (Day 10 - 14) approx 26%\n",
    "- Luteal (Day 15-28) approx 37%\n",
    "- https://www.ncbi.nlm.nih.gov/pmc/articles/PMC164356/#:~:text=We%20found%20that%2026%20of,onset%20of%20menses%20(Figure%20%E2%80%8B\n",
    "\n",
    "### Mode of Injury\n",
    "\n",
    "- Higher in competition than in training/practice - approx 7:1 \n",
    "- https://www.ncbi.nlm.nih.gov/pmc/articles/PMC3867093/\n",
    "\n",
    "\n",
    "***"
   ]
  },
  {
   "cell_type": "markdown",
   "metadata": {},
   "source": [
    "## Dataset Synthesis"
   ]
  },
  {
   "cell_type": "markdown",
   "metadata": {},
   "source": [
    "To create data based on the research above, I will use numpy random number generator. The data will be synthesises based on a normal distribution.\n",
    "a dataset with 200 rows will be created. It will represent data for 200 athletes who have suffered ACL injuries. The variables in the data set will be:\n",
    "- Sex\n",
    "- Age\n",
    "- Mode of Injury\n",
    "- Training Hours per week\n",
    "- Menstrual Cycle Stage (Female only)"
   ]
  },
  {
   "cell_type": "code",
   "execution_count": 1,
   "metadata": {},
   "outputs": [],
   "source": [
    "#Importing of Packages\n",
    "\n",
    "import pandas as pd\n",
    "import matplotlib.pyplot as plt\n",
    "import numpy as np\n",
    "import random\n"
   ]
  },
  {
   "cell_type": "code",
   "execution_count": 2,
   "metadata": {},
   "outputs": [
    {
     "data": {
      "text/plain": [
       "'rng = np.random.default_rng()\\nsex_choice = [\"Male\", \"Female\"]\\nsex = rng.choice(sex_choice, p =[0.17, 0.83], size=200)\\n\\nsex\\n'"
      ]
     },
     "execution_count": 2,
     "metadata": {},
     "output_type": "execute_result"
    }
   ],
   "source": [
    "# Sex Variable data\n",
    "# I took a value of 5:1 females to males as per research, erring on the side of caution\n",
    "\n",
    "'''rng = np.random.default_rng()\n",
    "sex_choice = [\"Male\", \"Female\"]\n",
    "sex = rng.choice(sex_choice, p =[0.17, 0.83], size=200)\n",
    "\n",
    "sex\n",
    "'''\n",
    "\n",
    "# I am removing sex and focusing the project on ACL injuries in female athletes"
   ]
  },
  {
   "cell_type": "code",
   "execution_count": 3,
   "metadata": {},
   "outputs": [],
   "source": [
    "# Age Variable data\n",
    "# I took a value of 5:1 females to males as per research, erring on the side of caution\n",
    "\n",
    "'''Age Bracket Data: (ratios)\n",
    "10-14 = 1\n",
    "15-19 = 8.5\n",
    "20-24 = 3\n",
    "25-29 = 3\n",
    "30-34 = 3\n",
    "35-39 = 3\n",
    "40-44 = 2\n",
    ">45 = 1.5'''\n",
    "\n",
    "rng = np.random.default_rng()\n",
    "age_choice = [\"10-14\", \"15-19\", \"20-24\", \"25-29\", \"30-34\", \"35-39\", \"40-44\", \">45\"]\n",
    "age = rng.choice(age_choice, p =[0.04, 0.34, 0.12, 0.12, 0.12, 0.12, 0.08, 0.06], size=200)"
   ]
  },
  {
   "cell_type": "code",
   "execution_count": 4,
   "metadata": {},
   "outputs": [],
   "source": [
    "# Training Hours Variable data\n",
    "# I took a value of 7:1 for 10 training hours or greater: less than 10 training hours as per research\n",
    "\n",
    "rng = np.random.default_rng()\n",
    "import random\n",
    "from random import randrange\n",
    "training_hours = []\n",
    "for _ in range(24):\n",
    "    training_hours.append(random.randint(3, 9))\n",
    "for _ in range(176):\n",
    "    training_hours.append(random.randint(10, 18))\n",
    "\n",
    "# https://blog.finxter.com/create-a-list-of-random-numbers-the-most-pythonic-way/"
   ]
  },
  {
   "cell_type": "code",
   "execution_count": 5,
   "metadata": {},
   "outputs": [],
   "source": [
    "# Mode of Injury Variable data\n",
    "# I took a value of 7.5:1 as per research\n",
    "\n",
    "rng = np.random.default_rng()\n",
    "modeofinjury_choice = [\"Competition\", \"Training\"]\n",
    "modeofinjury = rng.choice(modeofinjury_choice, p =[0.875, 0.125], size=200)"
   ]
  },
  {
   "cell_type": "code",
   "execution_count": 6,
   "metadata": {},
   "outputs": [],
   "source": [
    "# Menstrual Cycle Variable data\n",
    "# From research, there are three main stages: \n",
    "'''Follicular (Day 1-9) approx 37%\n",
    "Ovulatory (Day 10 - 14) approx 26%\n",
    "Luteal (Day 15-28) approx 37%'''\n",
    "\n",
    "rng = np.random.default_rng()\n",
    "menstrualcycle_choice = [\"Follicular (Day 1-9)\", \"Ovulatory (Day 10-14)\", \"Luteal (Day 15-28)\"]\n",
    "menstrualcycle = rng.choice(menstrualcycle_choice, p =[0.37, 0.26, 0.37], size=200)"
   ]
  },
  {
   "cell_type": "code",
   "execution_count": 7,
   "metadata": {},
   "outputs": [
    {
     "data": {
      "text/html": [
       "<div>\n",
       "<style scoped>\n",
       "    .dataframe tbody tr th:only-of-type {\n",
       "        vertical-align: middle;\n",
       "    }\n",
       "\n",
       "    .dataframe tbody tr th {\n",
       "        vertical-align: top;\n",
       "    }\n",
       "\n",
       "    .dataframe thead th {\n",
       "        text-align: right;\n",
       "    }\n",
       "</style>\n",
       "<table border=\"1\" class=\"dataframe\">\n",
       "  <thead>\n",
       "    <tr style=\"text-align: right;\">\n",
       "      <th></th>\n",
       "      <th>Age</th>\n",
       "      <th>Training Hours</th>\n",
       "      <th>Mode of Injury</th>\n",
       "      <th>Menstral Cycle Stage</th>\n",
       "    </tr>\n",
       "  </thead>\n",
       "  <tbody>\n",
       "    <tr>\n",
       "      <th>0</th>\n",
       "      <td>&gt;45</td>\n",
       "      <td>5</td>\n",
       "      <td>Competition</td>\n",
       "      <td>Ovulatory (Day 10-14)</td>\n",
       "    </tr>\n",
       "    <tr>\n",
       "      <th>1</th>\n",
       "      <td>40-44</td>\n",
       "      <td>3</td>\n",
       "      <td>Competition</td>\n",
       "      <td>Follicular (Day 1-9)</td>\n",
       "    </tr>\n",
       "    <tr>\n",
       "      <th>2</th>\n",
       "      <td>15-19</td>\n",
       "      <td>5</td>\n",
       "      <td>Competition</td>\n",
       "      <td>Ovulatory (Day 10-14)</td>\n",
       "    </tr>\n",
       "    <tr>\n",
       "      <th>3</th>\n",
       "      <td>30-34</td>\n",
       "      <td>3</td>\n",
       "      <td>Competition</td>\n",
       "      <td>Luteal (Day 15-28)</td>\n",
       "    </tr>\n",
       "    <tr>\n",
       "      <th>4</th>\n",
       "      <td>&gt;45</td>\n",
       "      <td>6</td>\n",
       "      <td>Competition</td>\n",
       "      <td>Ovulatory (Day 10-14)</td>\n",
       "    </tr>\n",
       "    <tr>\n",
       "      <th>...</th>\n",
       "      <td>...</td>\n",
       "      <td>...</td>\n",
       "      <td>...</td>\n",
       "      <td>...</td>\n",
       "    </tr>\n",
       "    <tr>\n",
       "      <th>195</th>\n",
       "      <td>40-44</td>\n",
       "      <td>14</td>\n",
       "      <td>Competition</td>\n",
       "      <td>Follicular (Day 1-9)</td>\n",
       "    </tr>\n",
       "    <tr>\n",
       "      <th>196</th>\n",
       "      <td>40-44</td>\n",
       "      <td>16</td>\n",
       "      <td>Competition</td>\n",
       "      <td>Luteal (Day 15-28)</td>\n",
       "    </tr>\n",
       "    <tr>\n",
       "      <th>197</th>\n",
       "      <td>30-34</td>\n",
       "      <td>15</td>\n",
       "      <td>Competition</td>\n",
       "      <td>Luteal (Day 15-28)</td>\n",
       "    </tr>\n",
       "    <tr>\n",
       "      <th>198</th>\n",
       "      <td>30-34</td>\n",
       "      <td>15</td>\n",
       "      <td>Competition</td>\n",
       "      <td>Luteal (Day 15-28)</td>\n",
       "    </tr>\n",
       "    <tr>\n",
       "      <th>199</th>\n",
       "      <td>15-19</td>\n",
       "      <td>17</td>\n",
       "      <td>Competition</td>\n",
       "      <td>Ovulatory (Day 10-14)</td>\n",
       "    </tr>\n",
       "  </tbody>\n",
       "</table>\n",
       "<p>200 rows × 4 columns</p>\n",
       "</div>"
      ],
      "text/plain": [
       "       Age  Training Hours Mode of Injury   Menstral Cycle Stage\n",
       "0      >45               5    Competition  Ovulatory (Day 10-14)\n",
       "1    40-44               3    Competition   Follicular (Day 1-9)\n",
       "2    15-19               5    Competition  Ovulatory (Day 10-14)\n",
       "3    30-34               3    Competition     Luteal (Day 15-28)\n",
       "4      >45               6    Competition  Ovulatory (Day 10-14)\n",
       "..     ...             ...            ...                    ...\n",
       "195  40-44              14    Competition   Follicular (Day 1-9)\n",
       "196  40-44              16    Competition     Luteal (Day 15-28)\n",
       "197  30-34              15    Competition     Luteal (Day 15-28)\n",
       "198  30-34              15    Competition     Luteal (Day 15-28)\n",
       "199  15-19              17    Competition  Ovulatory (Day 10-14)\n",
       "\n",
       "[200 rows x 4 columns]"
      ]
     },
     "execution_count": 7,
     "metadata": {},
     "output_type": "execute_result"
    }
   ],
   "source": [
    "data = {\"Age\": age,\n",
    "        \"Training Hours\": training_hours,\n",
    "        \"Mode of Injury\": modeofinjury,\n",
    "        \"Menstral Cycle Stage\": menstrualcycle}\n",
    "df = pd.DataFrame(data)\n",
    "\n",
    "df"
   ]
  },
  {
   "cell_type": "markdown",
   "metadata": {},
   "source": []
  },
  {
   "cell_type": "markdown",
   "metadata": {},
   "source": [
    "\n"
   ]
  }
 ],
 "metadata": {
  "kernelspec": {
   "display_name": "base",
   "language": "python",
   "name": "python3"
  },
  "language_info": {
   "codemirror_mode": {
    "name": "ipython",
    "version": 3
   },
   "file_extension": ".py",
   "mimetype": "text/x-python",
   "name": "python",
   "nbconvert_exporter": "python",
   "pygments_lexer": "ipython3",
   "version": "3.11.4"
  },
  "orig_nbformat": 4
 },
 "nbformat": 4,
 "nbformat_minor": 2
}
