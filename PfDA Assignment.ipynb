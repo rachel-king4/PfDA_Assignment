{
 "cells": [
  {
   "attachments": {},
   "cell_type": "markdown",
   "metadata": {},
   "source": [
    "## PfDA Assignment \n",
    "\n",
    "***"
   ]
  },
  {
   "cell_type": "markdown",
   "metadata": {},
   "source": [
    "Simulate data of a phenomenon:\n",
    "\n",
    "e.g. ACL injuries in women's professional football\n",
    "    injuries in women's football\n",
    "\n",
    "- at least 100 data points required\n",
    "- 4 variables:\n",
    "    e.g. age, trianing hours in week, kms covered in week, occupation (if not professional), previous injury, menstrual cycle\n",
    "\n",
    "Use a Jupyter notebook - use images, links, code etc\n",
    "\n",
    "Research likely relationships between variables, their distributions and relationships/ correlation with each other\n",
    "\n",
    "Simulate data by devising an algorithm\n",
    "\n"
   ]
  }
 ],
 "metadata": {
  "language_info": {
   "name": "python"
  },
  "orig_nbformat": 4
 },
 "nbformat": 4,
 "nbformat_minor": 2
}
